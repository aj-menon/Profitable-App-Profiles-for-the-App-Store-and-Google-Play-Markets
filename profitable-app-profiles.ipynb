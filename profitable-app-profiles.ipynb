{
 "cells": [
  {
   "cell_type": "markdown",
   "metadata": {},
   "source": [
    "## Profitable App Profiles for the App Store and Google Play Markets"
   ]
  },
  {
   "cell_type": "markdown",
   "metadata": {},
   "source": [
    "For this project, we'll pretend we're working as data analysts for a company that builds Android and iOS mobile apps. We make our apps available on Google Play and the App Store.\n",
    "\n",
    "We only build apps that are free to download and install, and our main source of revenue consists of in-app ads. This means our revenue for any given app is mostly influenced by the number of users who use our app — the more users that see and engage with the ads, the better.\n",
    "\n",
    "### Aim\n",
    "Our goal for this project is to analyze data from [Google Play](https://www.kaggle.com/lava18/google-play-store-apps) and [App Store](https://www.kaggle.com/ramamet4/app-store-apple-data-set-10k-apps) datasets both in `csv` formats to understand what type of apps are likely to attract more users."
   ]
  },
  {
   "cell_type": "markdown",
   "metadata": {},
   "source": [
    "### Open the datasets\n",
    "\n",
    "Open the datasets for both GooglePlayStore and AppleStore respectively using `reader`library."
   ]
  },
  {
   "cell_type": "code",
   "execution_count": 31,
   "metadata": {
    "collapsed": false
   },
   "outputs": [
    {
     "name": "stdout",
     "output_type": "stream",
     "text": [
      "Headers from playstore data: \n",
      "  ['App', 'Category', 'Rating', 'Reviews', 'Size', 'Installs', 'Type', 'Price', 'Content Rating', 'Genres', 'Last Updated', 'Current Ver', 'Android Ver']\n",
      "\n",
      " first 5 rows from playstore:\n",
      " [['Photo Editor & Candy Camera & Grid & ScrapBook', 'ART_AND_DESIGN', '4.1', '159', '19M', '10,000+', 'Free', '0', 'Everyone', 'Art & Design', 'January 7, 2018', '1.0.0', '4.0.3 and up'], ['Coloring book moana', 'ART_AND_DESIGN', '3.9', '967', '14M', '500,000+', 'Free', '0', 'Everyone', 'Art & Design;Pretend Play', 'January 15, 2018', '2.0.0', '4.0.3 and up'], ['U Launcher Lite – FREE Live Cool Themes, Hide Apps', 'ART_AND_DESIGN', '4.7', '87510', '8.7M', '5,000,000+', 'Free', '0', 'Everyone', 'Art & Design', 'August 1, 2018', '1.2.4', '4.0.3 and up'], ['Sketch - Draw & Paint', 'ART_AND_DESIGN', '4.5', '215644', '25M', '50,000,000+', 'Free', '0', 'Teen', 'Art & Design', 'June 8, 2018', 'Varies with device', '4.2 and up'], ['Pixel Draw - Number Art Coloring Book', 'ART_AND_DESIGN', '4.3', '967', '2.8M', '100,000+', 'Free', '0', 'Everyone', 'Art & Design;Creativity', 'June 20, 2018', '1.1', '4.4 and up']]\n",
      "\n",
      " \n",
      "\n",
      "Headers from AppStore data: \n",
      "  ['id', 'track_name', 'size_bytes', 'currency', 'price', 'rating_count_tot', 'rating_count_ver', 'user_rating', 'user_rating_ver', 'ver', 'cont_rating', 'prime_genre', 'sup_devices.num', 'ipadSc_urls.num', 'lang.num', 'vpp_lic']\n",
      "\n",
      " first 5 rows from appstore:\n",
      " [['284882215', 'Facebook', '389879808', 'USD', '0.0', '2974676', '212', '3.5', '3.5', '95.0', '4+', 'Social Networking', '37', '1', '29', '1'], ['389801252', 'Instagram', '113954816', 'USD', '0.0', '2161558', '1289', '4.5', '4.0', '10.23', '12+', 'Photo & Video', '37', '0', '29', '1'], ['529479190', 'Clash of Clans', '116476928', 'USD', '0.0', '2130805', '579', '4.5', '4.5', '9.24.12', '9+', 'Games', '38', '5', '18', '1'], ['420009108', 'Temple Run', '65921024', 'USD', '0.0', '1724546', '3842', '4.5', '4.0', '1.6.2', '9+', 'Games', '40', '5', '1', '1'], ['284035177', 'Pandora - Music & Radio', '130242560', 'USD', '0.0', '1126879', '3594', '4.0', '4.5', '8.4.1', '12+', 'Music', '37', '4', '1', '1']]\n"
     ]
    }
   ],
   "source": [
    "playstore_file = open(\"googleplaystore.csv\")\n",
    "applestore_file = open(\"AppleStore.csv\")\n",
    "from csv import reader\n",
    "playstore = reader(playstore_file)\n",
    "applestore = reader(applestore_file)\n",
    "play_data = list(playstore)\n",
    "apps_data = list(applestore)\n",
    "print(\"Headers from playstore data: \\n \",play_data[0])\n",
    "print(\"\\n first 5 rows from playstore:\\n\",play_data[1:6])\n",
    "print(\"\\n \\n\")\n",
    "print(\"Headers from AppStore data: \\n \",apps_data[0])\n",
    "print(\"\\n first 5 rows from appstore:\\n\",apps_data[1:6])\n",
    "\n"
   ]
  },
  {
   "cell_type": "markdown",
   "metadata": {},
   "source": [
    "### Explore the dataset\n",
    "\n",
    "Now,lets explore the datasets. `explore_data()` helps in exploring the datasets. \n",
    "`explore_data()` takes four params :\n",
    "\n",
    "* `dataset` - which is expected to be a list of lists.\n",
    "    \n",
    "* `start` and `end` - both expected to be integers and represent the starting and the ending indices of a slice from the data set.\n",
    "    \n",
    "* `rows_and_columns` - which is expected to be a Boolean and has `False` as a default argument\n",
    "\n"
   ]
  },
  {
   "cell_type": "code",
   "execution_count": 32,
   "metadata": {
    "collapsed": false
   },
   "outputs": [],
   "source": [
    "\n",
    "def explore_data(dataset, start, end, rows_and_columns=False):  \n",
    "    dataset_slice = dataset[start:end]    \n",
    "    for row in dataset_slice:\n",
    "        print(row)\n",
    "        print('\\n') # adds a new (empty) line after each row\n",
    "\n",
    "    if rows_and_columns:\n",
    "        print('Number of rows:', len(dataset))\n",
    "        print('Number of columns:', len(dataset[0]))\n",
    "        \n"
   ]
  },
  {
   "cell_type": "markdown",
   "metadata": {},
   "source": [
    "### Calling the function `explore_data()`\n",
    "Call `explore_data()` function to see the results for `AppleStore` data\n",
    "Call `explore_data()` function to see the results for `GooglePlay` data"
   ]
  },
  {
   "cell_type": "code",
   "execution_count": 33,
   "metadata": {
    "collapsed": false
   },
   "outputs": [
    {
     "name": "stdout",
     "output_type": "stream",
     "text": [
      "['Coloring book moana', 'ART_AND_DESIGN', '3.9', '967', '14M', '500,000+', 'Free', '0', 'Everyone', 'Art & Design;Pretend Play', 'January 15, 2018', '2.0.0', '4.0.3 and up']\n",
      "\n",
      "\n",
      "['U Launcher Lite – FREE Live Cool Themes, Hide Apps', 'ART_AND_DESIGN', '4.7', '87510', '8.7M', '5,000,000+', 'Free', '0', 'Everyone', 'Art & Design', 'August 1, 2018', '1.2.4', '4.0.3 and up']\n",
      "\n",
      "\n",
      "['Sketch - Draw & Paint', 'ART_AND_DESIGN', '4.5', '215644', '25M', '50,000,000+', 'Free', '0', 'Teen', 'Art & Design', 'June 8, 2018', 'Varies with device', '4.2 and up']\n",
      "\n",
      "\n",
      "['Pixel Draw - Number Art Coloring Book', 'ART_AND_DESIGN', '4.3', '967', '2.8M', '100,000+', 'Free', '0', 'Everyone', 'Art & Design;Creativity', 'June 20, 2018', '1.1', '4.4 and up']\n",
      "\n",
      "\n",
      "['Paper flowers instructions', 'ART_AND_DESIGN', '4.4', '167', '5.6M', '50,000+', 'Free', '0', 'Everyone', 'Art & Design', 'March 26, 2017', '1.0', '2.3 and up']\n",
      "\n",
      "\n",
      "['Coloring book moana', 'ART_AND_DESIGN', '3.9', '967', '14M', '500,000+', 'Free', '0', 'Everyone', 'Art & Design;Pretend Play', 'January 15, 2018', '2.0.0', '4.0.3 and up']\n",
      "\n",
      "\n",
      "['U Launcher Lite – FREE Live Cool Themes, Hide Apps', 'ART_AND_DESIGN', '4.7', '87510', '8.7M', '5,000,000+', 'Free', '0', 'Everyone', 'Art & Design', 'August 1, 2018', '1.2.4', '4.0.3 and up']\n",
      "\n",
      "\n",
      "['Sketch - Draw & Paint', 'ART_AND_DESIGN', '4.5', '215644', '25M', '50,000,000+', 'Free', '0', 'Teen', 'Art & Design', 'June 8, 2018', 'Varies with device', '4.2 and up']\n",
      "\n",
      "\n",
      "Number of rows: 10841\n",
      "Number of columns: 13\n",
      "['389801252', 'Instagram', '113954816', 'USD', '0.0', '2161558', '1289', '4.5', '4.0', '10.23', '12+', 'Photo & Video', '37', '0', '29', '1']\n",
      "\n",
      "\n",
      "['529479190', 'Clash of Clans', '116476928', 'USD', '0.0', '2130805', '579', '4.5', '4.5', '9.24.12', '9+', 'Games', '38', '5', '18', '1']\n",
      "\n",
      "\n",
      "['420009108', 'Temple Run', '65921024', 'USD', '0.0', '1724546', '3842', '4.5', '4.0', '1.6.2', '9+', 'Games', '40', '5', '1', '1']\n",
      "\n",
      "\n",
      "['389801252', 'Instagram', '113954816', 'USD', '0.0', '2161558', '1289', '4.5', '4.0', '10.23', '12+', 'Photo & Video', '37', '0', '29', '1']\n",
      "\n",
      "\n",
      "['529479190', 'Clash of Clans', '116476928', 'USD', '0.0', '2130805', '579', '4.5', '4.5', '9.24.12', '9+', 'Games', '38', '5', '18', '1']\n",
      "\n",
      "\n",
      "['420009108', 'Temple Run', '65921024', 'USD', '0.0', '1724546', '3842', '4.5', '4.0', '1.6.2', '9+', 'Games', '40', '5', '1', '1']\n",
      "\n",
      "\n",
      "Number of rows: 7197\n",
      "Number of columns: 16\n"
     ]
    }
   ],
   "source": [
    "explore_data(play_data[1:],1,6)\n",
    "explore_data(play_data[1:],1,4,True)\n",
    "explore_data(apps_data[1:],1,4)\n",
    "explore_data(apps_data[1:],1,4,True)\n"
   ]
  },
  {
   "cell_type": "markdown",
   "metadata": {},
   "source": [
    "### Find the row with missing data\n",
    "Before proceeding any further, we need to clean our dataset to:\n",
    "* detect and remove inaccurate data\n",
    "* detect and remove duplicate data\n",
    "\n",
    "According to the [discussion](https://www.kaggle.com/lava18/google-play-store-apps/discussion/66015), we see that an error is reported and it is reported at row index 10472 (ie, 10473 including the headers). Print row 10473 to view the data. "
   ]
  },
  {
   "cell_type": "code",
   "execution_count": 34,
   "metadata": {
    "collapsed": false
   },
   "outputs": [
    {
     "name": "stdout",
     "output_type": "stream",
     "text": [
      "Google play data headers: \n",
      " [['App', 'Category', 'Rating', 'Reviews', 'Size', 'Installs', 'Type', 'Price', 'Content Rating', 'Genres', 'Last Updated', 'Current Ver', 'Android Ver']]\n",
      "Data at index 10473 \n",
      " ['Life Made WI-Fi Touchscreen Photo Frame', '1.9', '19', '3.0M', '1,000+', 'Free', '0', 'Everyone', '', 'February 11, 2018', '1.0.19', '4.0 and up']\n"
     ]
    }
   ],
   "source": [
    "print(\"Google play data headers: \\n\",play_data[0:1])\n",
    "print(\"Data at index 10473 \\n\",play_data[10473])"
   ]
  },
  {
   "cell_type": "markdown",
   "metadata": {},
   "source": [
    "From the above results, we see that the entry for column `Category` is missing from the result-set."
   ]
  },
  {
   "cell_type": "markdown",
   "metadata": {},
   "source": [
    "### Remove the row with missing data\n",
    "At row index 10473, the `Category` column is missing and hence, we delete the row using `del` statement"
   ]
  },
  {
   "cell_type": "code",
   "execution_count": 35,
   "metadata": {
    "collapsed": false
   },
   "outputs": [
    {
     "name": "stdout",
     "output_type": "stream",
     "text": [
      "length of google store dataset before deleting row 10473: 10842\n",
      "\n",
      "length of google store dataset after deleting row 10473:  10841\n"
     ]
    }
   ],
   "source": [
    "# print the length of dataset before deletion\n",
    "print(\"length of google store dataset before deleting row 10473:\",len(play_data)) \n",
    "\n",
    "# Delete the row with inaccurate data \n",
    "del play_data[10473]\n",
    "\n",
    "# print the length of dataset after deletion\n",
    "print(\"\\nlength of google store dataset after deleting row 10473: \",len(play_data)) "
   ]
  },
  {
   "cell_type": "markdown",
   "metadata": {},
   "source": [
    "### Check for duplicates and removing them based on criterion\n",
    "\n",
    "If we explore the [discussions](https://www.kaggle.com/lava18/google-play-store-apps/discussion), we notice that some apps have duplicate entries. For example from the code below, Instagram has 4 entries.\n"
   ]
  },
  {
   "cell_type": "code",
   "execution_count": 36,
   "metadata": {
    "collapsed": false
   },
   "outputs": [
    {
     "name": "stdout",
     "output_type": "stream",
     "text": [
      "['Instagram', 'SOCIAL', '4.5', '66577313', 'Varies with device', '1,000,000,000+', 'Free', '0', 'Teen', 'Social', 'July 31, 2018', 'Varies with device', 'Varies with device']\n",
      "['Instagram', 'SOCIAL', '4.5', '66577446', 'Varies with device', '1,000,000,000+', 'Free', '0', 'Teen', 'Social', 'July 31, 2018', 'Varies with device', 'Varies with device']\n",
      "['Instagram', 'SOCIAL', '4.5', '66577313', 'Varies with device', '1,000,000,000+', 'Free', '0', 'Teen', 'Social', 'July 31, 2018', 'Varies with device', 'Varies with device']\n",
      "['Instagram', 'SOCIAL', '4.5', '66509917', 'Varies with device', '1,000,000,000+', 'Free', '0', 'Teen', 'Social', 'July 31, 2018', 'Varies with device', 'Varies with device']\n"
     ]
    }
   ],
   "source": [
    "for app in play_data[1:]:\n",
    "    app_name = app[0]\n",
    "    if app_name == 'Instagram':\n",
    "        print(app)"
   ]
  },
  {
   "cell_type": "markdown",
   "metadata": {},
   "source": [
    "Now, lets find the total number of unique entries and duplicate entries in Google Play dataset. \n",
    "\n",
    "* Create two lists one for storing duplicates and other for all the unique entries.\n",
    "* Loop through the `play_data` dataset and check and append the app name to respective list"
   ]
  },
  {
   "cell_type": "code",
   "execution_count": 37,
   "metadata": {
    "collapsed": false
   },
   "outputs": [
    {
     "name": "stdout",
     "output_type": "stream",
     "text": [
      "total unique apps:  9660\n",
      "\n",
      "total duplicate apps:  1181\n"
     ]
    }
   ],
   "source": [
    "max_reviews =0\n",
    "duplicates =[]\n",
    "distinct=[]\n",
    "\n",
    "for app in play_data:\n",
    "    app_name = app[0]\n",
    "    if app_name in distinct:\n",
    "        duplicates.append(app_name)\n",
    "    else:\n",
    "        distinct.append(app_name)\n",
    "print(\"total unique apps: \",len(distinct))\n",
    "print(\"\\ntotal duplicate apps: \",len(duplicates))"
   ]
  },
  {
   "cell_type": "markdown",
   "metadata": {},
   "source": [
    "### Removing duplicate entries based in criterion\n",
    "Now, we have the duplicate rows in list named `duplicates` and all unique rows in `distinct` list. \n",
    "\n",
    "The duplicate apps cannot be removed randomly, instead if you examine the rows we printed for the Instagram app, the main difference happens on the fourth position of each row, which corresponds to the number of reviews.\n",
    "\n",
    "We can use this information to build a criterion for removing the duplicates. The higher the number of reviews, the more recent the data should be. Rather than removing duplicates randomly, we will only keep the row with the highest number of reviews and remove the other entries for any given app.\n",
    "\n",
    "#### To remove duplicates:\n",
    "* Create a dictionary, where each dictionary key is a unique app name and the corresponding dictionary value is the highest number of reviews of that app.\n",
    "* Use the information stored in the dictionary and create a new data set, which will have only one entry per app "
   ]
  },
  {
   "cell_type": "code",
   "execution_count": 38,
   "metadata": {
    "collapsed": false
   },
   "outputs": [],
   "source": [
    "reviews_max = {}\n",
    "\n",
    "for app in play_data[1:]:\n",
    "    name = app[0]\n",
    "    n_reviews = float(app[3])\n",
    "    if name in reviews_max and reviews_max[name] < n_reviews:\n",
    "        reviews_max[name] = n_reviews\n",
    "        \n",
    "    elif name not in reviews_max:\n",
    "        reviews_max[name] = n_reviews"
   ]
  },
  {
   "cell_type": "markdown",
   "metadata": {},
   "source": [
    "We found that there are 1,181 cases where an app occurs more than once, so the length of our dictionary (of unique apps) should be equal to the difference between the length of our data set and 1,181.\n",
    "We can see that the length of `reviews_max` and `play_data` minus the total number duplicates in the dataset are the same. "
   ]
  },
  {
   "cell_type": "code",
   "execution_count": 39,
   "metadata": {
    "collapsed": false
   },
   "outputs": [
    {
     "name": "stdout",
     "output_type": "stream",
     "text": [
      "length of dataset with  highest number of reviews for each app: 9659\n"
     ]
    }
   ],
   "source": [
    "print(\"length of dataset with  highest number of reviews for each app:\",len(reviews_max))"
   ]
  },
  {
   "cell_type": "code",
   "execution_count": 40,
   "metadata": {
    "collapsed": false
   },
   "outputs": [
    {
     "name": "stdout",
     "output_type": "stream",
     "text": [
      "length of dataset after removing the duplicates:  9659\n"
     ]
    }
   ],
   "source": [
    "print(\"length of dataset after removing the duplicates: \",len(play_data[1:]) - 1181)"
   ]
  },
  {
   "cell_type": "markdown",
   "metadata": {},
   "source": [
    "From the above, both the values are equal, which shows our dataset is accurate ( length of dataset with the entries with the highest number of reviews for each app(ie,duplicates removed) and the length of our entire dataset minus the number of duplicates match ie, 9659)"
   ]
  },
  {
   "cell_type": "markdown",
   "metadata": {},
   "source": [
    "### Cleaning the dataset further\n",
    "\n",
    "For the duplicate cases, we'll only keep the entries with the highest number of reviews. In the code cell below:\n",
    "\n",
    "We start by initializing two empty lists, `android_clean` and `already_added`.\n",
    "We loop through the Goole Play dataset and also using the `reviews_max` dictionary, we append the app name to the list `android_clean` if the app is not already in `already_added` AND maximum reviews for the app is equal to the maximum reviews in `reviews_max` else append app name to `already_added`. (see code cell 51)\n",
    "Now, lets code it as follows:"
   ]
  },
  {
   "cell_type": "code",
   "execution_count": 41,
   "metadata": {
    "collapsed": false
   },
   "outputs": [
    {
     "name": "stdout",
     "output_type": "stream",
     "text": [
      "length of the clean dataset: 9659\n"
     ]
    }
   ],
   "source": [
    "android_clean = []\n",
    "already_added = []\n",
    "for app in play_data[1:]:\n",
    "    name = app[0]\n",
    "    n_reviews = float(app[3])\n",
    "    if (reviews_max[name] == n_reviews) and (name not in already_added):\n",
    "            android_clean.append(app)\n",
    "            already_added.append(name) \n",
    "print(\"length of the clean dataset:\",len(android_clean))"
   ]
  },
  {
   "cell_type": "markdown",
   "metadata": {},
   "source": [
    "Let's also confirm that the number of rows is 9,659 using the `explore_data()`.\n"
   ]
  },
  {
   "cell_type": "code",
   "execution_count": 42,
   "metadata": {
    "collapsed": false
   },
   "outputs": [
    {
     "name": "stdout",
     "output_type": "stream",
     "text": [
      "['Photo Editor & Candy Camera & Grid & ScrapBook', 'ART_AND_DESIGN', '4.1', '159', '19M', '10,000+', 'Free', '0', 'Everyone', 'Art & Design', 'January 7, 2018', '1.0.0', '4.0.3 and up']\n",
      "\n",
      "\n",
      "['U Launcher Lite – FREE Live Cool Themes, Hide Apps', 'ART_AND_DESIGN', '4.7', '87510', '8.7M', '5,000,000+', 'Free', '0', 'Everyone', 'Art & Design', 'August 1, 2018', '1.2.4', '4.0.3 and up']\n",
      "\n",
      "\n",
      "['Sketch - Draw & Paint', 'ART_AND_DESIGN', '4.5', '215644', '25M', '50,000,000+', 'Free', '0', 'Teen', 'Art & Design', 'June 8, 2018', 'Varies with device', '4.2 and up']\n",
      "\n",
      "\n",
      "Number of rows: 9659\n",
      "Number of columns: 13\n"
     ]
    }
   ],
   "source": [
    "explore_data(android_clean, 0, 3, True)\n"
   ]
  },
  {
   "cell_type": "markdown",
   "metadata": {},
   "source": [
    "The dataset has 9659 rows which is the expected result and this ensures that everything went as expected."
   ]
  },
  {
   "cell_type": "markdown",
   "metadata": {},
   "source": [
    "### Removing non-English apps\n",
    "\n",
    "We use English for the apps we develop at our company, and we'd like to analyze only the apps that are directed toward an English-speaking audience.We're not interested in keeping these apps with names that suggest they are not directed toward an English-speaking audience.\n",
    "\n",
    "One way to go about this is to remove each app whose name contains a symbol that is not commonly used in English text — English text usually includes letters from the English alphabet, numbers composed of digits from 0 to 9, punctuation marks (., !, ?, ;, etc.), and other symbols (+, *, /, etc.).\n",
    "\n",
    "All these characters that are specific to English texts are encoded using the ASCII standard. Each ASCII character has a corresponding number between 0 and 127 associated with it, and we can take advantage of that to build a function that checks an app name and tells us whether it contains non-ASCII characters.\n",
    "\n",
    "We built this function below, and we use the built-in `ord()` function to find out the corresponding encoding number of each character."
   ]
  },
  {
   "cell_type": "code",
   "execution_count": 43,
   "metadata": {
    "collapsed": false
   },
   "outputs": [
    {
     "name": "stdout",
     "output_type": "stream",
     "text": [
      "ASCII for 'a': 97\n",
      "ASCII for '%': 37\n",
      "ASCII for 4: 52\n"
     ]
    }
   ],
   "source": [
    "print('ASCII for \\'a\\':',ord('a'))\n",
    "print('ASCII for \\'%\\':',ord('%'))\n",
    "print('ASCII for 4:',ord('4'))"
   ]
  },
  {
   "cell_type": "markdown",
   "metadata": {},
   "source": [
    "### Find the non-English characters \n",
    "From [ASCII chart](http://www.asciitable.com/),if ASCII value is less than or equal to 127 then it belongs to common English characters.So,if an app name contains a character that is greater than 127, then it probably means that the app has a non-English name. \n",
    "\n",
    "We define a function `isEnglish()` to determine if the app name is non-English, which returns `True` or `False` according to the parameter passed."
   ]
  },
  {
   "cell_type": "code",
   "execution_count": 44,
   "metadata": {
    "collapsed": false
   },
   "outputs": [
    {
     "data": {
      "text/plain": [
       "False"
      ]
     },
     "execution_count": 44,
     "metadata": {},
     "output_type": "execute_result"
    }
   ],
   "source": [
    "def isEnglish_app(string):\n",
    "    for ch in string:\n",
    "        if ord(ch) > 127 :\n",
    "            return False\n",
    "        else:\n",
    "            return True\n",
    "        \n",
    "isEnglish_app('电视剧热播')\n",
    "\n"
   ]
  },
  {
   "cell_type": "code",
   "execution_count": 45,
   "metadata": {
    "collapsed": false
   },
   "outputs": [
    {
     "data": {
      "text/plain": [
       "True"
      ]
     },
     "execution_count": 45,
     "metadata": {},
     "output_type": "execute_result"
    }
   ],
   "source": [
    "isEnglish_app('Instachat 😜')"
   ]
  },
  {
   "cell_type": "code",
   "execution_count": 46,
   "metadata": {
    "collapsed": false
   },
   "outputs": [
    {
     "data": {
      "text/plain": [
       "True"
      ]
     },
     "execution_count": 46,
     "metadata": {},
     "output_type": "execute_result"
    }
   ],
   "source": [
    "isEnglish_app('Docs To Go™ Free Office Suite')"
   ]
  },
  {
   "cell_type": "markdown",
   "metadata": {},
   "source": [
    "### Minimize the impact of data loss\n",
    "\n",
    "Though `isEnglish()` determines the non-English app names, it is not  efficient enough to identify app names like `'Docs To Go™ Free Office Suite'` or app names with emojis in it because emojis and speacial characters like `™` fall outside the ASCII range.\n",
    "\n",
    "\n",
    "So to minimize the impact of data loss, we'll only remove an app if its name has more than three characters with corresponding numbers falling outside the ASCII range. This means all English apps with up to three emoji or other special characters will still be labeled as English. "
   ]
  },
  {
   "cell_type": "code",
   "execution_count": 47,
   "metadata": {
    "collapsed": false
   },
   "outputs": [
    {
     "name": "stdout",
     "output_type": "stream",
     "text": [
      "False\n",
      "True\n"
     ]
    }
   ],
   "source": [
    "def isEnglish_app(string):\n",
    "    char_count =0\n",
    "    for ch in string:\n",
    "        if ord(ch) > 127 :\n",
    "            char_count += 1\n",
    "    if char_count > 3:\n",
    "        return False\n",
    "    else:\n",
    "        return True\n",
    "\n",
    "print(isEnglish_app('电电电电电'))   \n",
    "print(isEnglish_app('Instachat 😜'))   "
   ]
  },
  {
   "cell_type": "markdown",
   "metadata": {},
   "source": [
    "### Filter out non-English apps from both data sets\n",
    "\n",
    "Using the new function, let's filter out non-English apps from both Google Play dataset and AppStore dataset."
   ]
  },
  {
   "cell_type": "code",
   "execution_count": 48,
   "metadata": {
    "collapsed": false
   },
   "outputs": [
    {
     "name": "stdout",
     "output_type": "stream",
     "text": [
      "English apps in play store 9614\n",
      "\n",
      "English apps in apple store 6183\n",
      "\n",
      "\n",
      "['U Launcher Lite – FREE Live Cool Themes, Hide Apps', 'ART_AND_DESIGN', '4.7', '87510', '8.7M', '5,000,000+', 'Free', '0', 'Everyone', 'Art & Design', 'August 1, 2018', '1.2.4', '4.0.3 and up']\n",
      "\n",
      "\n",
      "['Sketch - Draw & Paint', 'ART_AND_DESIGN', '4.5', '215644', '25M', '50,000,000+', 'Free', '0', 'Teen', 'Art & Design', 'June 8, 2018', 'Varies with device', '4.2 and up']\n",
      "\n",
      "\n",
      "Number of rows: 9614\n",
      "Number of columns: 13\n",
      "['389801252', 'Instagram', '113954816', 'USD', '0.0', '2161558', '1289', '4.5', '4.0', '10.23', '12+', 'Photo & Video', '37', '0', '29', '1']\n",
      "\n",
      "\n",
      "['529479190', 'Clash of Clans', '116476928', 'USD', '0.0', '2130805', '579', '4.5', '4.5', '9.24.12', '9+', 'Games', '38', '5', '18', '1']\n",
      "\n",
      "\n",
      "Number of rows: 6183\n",
      "Number of columns: 16\n"
     ]
    }
   ],
   "source": [
    "ios_english =[]\n",
    "gplay_english =[]\n",
    "for i in android_clean:\n",
    "    name = i[0]\n",
    "    if isEnglish_app(name):\n",
    "        gplay_english.append(i)\n",
    "        \n",
    "for i in apps_data[1:]:\n",
    "    name = i[1]\n",
    "    if isEnglish_app(name):\n",
    "        ios_english.append(i)\n",
    "\n",
    "print(\"English apps in play store\",len(gplay_english))\n",
    "print(\"\\nEnglish apps in apple store\",len(ios_english))\n",
    "print(\"\\n\")\n",
    "explore_data(gplay_english,1,3, True)\n",
    "explore_data(ios_english,1,3,True)"
   ]
  },
  {
   "cell_type": "markdown",
   "metadata": {},
   "source": [
    "The number of English apps in Google PlayStore is 9614 and in AppStore is 6183."
   ]
  },
  {
   "cell_type": "markdown",
   "metadata": {},
   "source": [
    "### Isolate free apps from the datasets\n",
    "\n",
    "\n",
    "According to the requirement, we only build apps that are free to download and install. We need to isolate only the free apps for our analysis.\n",
    "In the case of Google PlayStore apps, we check if the type of app is `Free` to determine if the app is paid/free. And, in AppStore dataset we check the `Price` column. "
   ]
  },
  {
   "cell_type": "code",
   "execution_count": 49,
   "metadata": {
    "collapsed": false
   },
   "outputs": [
    {
     "name": "stdout",
     "output_type": "stream",
     "text": [
      "Free play store apps:  8862\n",
      "Free Apple store apps:  3221\n"
     ]
    }
   ],
   "source": [
    "gplay_free =[]\n",
    "ios_free =[]\n",
    "\n",
    "for app in gplay_english[1:]:\n",
    "    type = app[6]\n",
    "    if type == \"Free\":\n",
    "        gplay_free.append(app)\n",
    "        \n",
    "for app in ios_english[1:]:\n",
    "    price = float(app[4])\n",
    "    if price == 0.0:\n",
    "        ios_free.append(app)\n",
    "\n",
    "print(\"Free play store apps: \", len(gplay_free))\n",
    " \n",
    "\n",
    "print(\"Free Apple store apps: \", len(ios_free))\n",
    "\n",
    "        "
   ]
  },
  {
   "cell_type": "markdown",
   "metadata": {},
   "source": [
    "### Most Common Apps: Part 1\n",
    "\n",
    "Our aim is to determine the kinds of apps that are likely to attract more users because our revenue is highly influenced by the number of people using our apps.\n",
    "\n",
    "We generate frequency tables for the `prime_genre` column of the App Store data set, and for the `Genres` and `Category` columns of the Google Play data set to find the most common genres in each market.\n",
    "\n",
    "We'll build two functions we can use to analyze the frequency tables:\n",
    "\n",
    "* One function to generate frequency tables that show percentages\n",
    "\n",
    "* Another function we can use to display the percentages in a descending order\n"
   ]
  },
  {
   "cell_type": "code",
   "execution_count": 50,
   "metadata": {
    "collapsed": false
   },
   "outputs": [],
   "source": [
    "def freq_table(dataset, index):\n",
    "    table = {}\n",
    "    total = 0\n",
    "    \n",
    "    for row in dataset:\n",
    "        total += 1\n",
    "        value = row[index]\n",
    "        if value in table:\n",
    "            table[value] += 1\n",
    "        else:\n",
    "            table[value] = 1\n",
    "    \n",
    "    table_percentages = {}\n",
    "    for key in table:\n",
    "        percentage = (table[key] / total) * 100\n",
    "        table_percentages[key] = percentage \n",
    "    \n",
    "    return table_percentages\n",
    "# to display the frequency table of the columns in dataset \n",
    "# (E.G: prime_genre in AppStore,\n",
    "# Genres and Category  in Google PlayStore)\n",
    "def display_table(dataset, index):\n",
    "    table = freq_table(dataset, index)\n",
    "    table_display = []\n",
    "    for key in table:\n",
    "        key_val_as_tuple = (table[key], key)\n",
    "        table_display.append(key_val_as_tuple)\n",
    "        \n",
    "    table_sorted = sorted(table_display, reverse = True)\n",
    "    for entry in table_sorted:\n",
    "        print(entry[1], ':', entry[0])\n",
    "\n",
    "\n",
    "\n"
   ]
  },
  {
   "cell_type": "markdown",
   "metadata": {},
   "source": [
    "### Most common apps by genre: Part 2\n",
    "\n",
    "#### Common Apps in PlayStore "
   ]
  },
  {
   "cell_type": "code",
   "execution_count": 51,
   "metadata": {
    "collapsed": false
   },
   "outputs": [
    {
     "name": "stdout",
     "output_type": "stream",
     "text": [
      "\n",
      "GOOGLE PLAY APPS BY GENRE\n",
      "\n",
      "Tools : 8.451816745655607\n",
      "Entertainment : 6.070864364703228\n",
      "Education : 5.348679756262695\n",
      "Business : 4.5926427443015125\n",
      "Productivity : 3.8930264048747465\n",
      "Lifestyle : 3.8930264048747465\n",
      "Finance : 3.7011961182577298\n",
      "Medical : 3.5319341006544795\n",
      "Sports : 3.4642292936131795\n",
      "Personalization : 3.3175355450236967\n",
      "Communication : 3.238546603475513\n",
      "Action : 3.1031369893929135\n",
      "Health & Fitness : 3.080568720379147\n",
      "Photography : 2.945159106296547\n",
      "News & Magazines : 2.798465357707064\n",
      "Social : 2.663055743624464\n",
      "Travel & Local : 2.324531708417964\n",
      "Shopping : 2.2455427668697814\n",
      "Books & Reference : 2.143985556307831\n",
      "Simulation : 2.0424283457458814\n",
      "Dating : 1.8618821936357481\n",
      "Arcade : 1.8505980591288649\n",
      "Video Players & Editors : 1.7716091175806816\n",
      "Casual : 1.7603249830737984\n",
      "Maps & Navigation : 1.399232678853532\n",
      "Food & Drink : 1.2412547957571656\n",
      "Puzzle : 1.128413450688332\n",
      "Racing : 0.9930038366057323\n",
      "Role Playing : 0.9365831640713158\n",
      "Libraries & Demo : 0.9365831640713158\n",
      "Auto & Vehicles : 0.9252990295644324\n",
      "Strategy : 0.9027307605506657\n",
      "House & Home : 0.8237418190024826\n",
      "Weather : 0.8011735499887158\n",
      "Events : 0.7109004739336493\n",
      "Adventure : 0.6770480704129994\n",
      "Comics : 0.6093432633716994\n",
      "Beauty : 0.598059128864816\n",
      "Art & Design : 0.5867749943579328\n",
      "Parenting : 0.49650191830286616\n",
      "Card : 0.45136538027533285\n",
      "Casino : 0.4287971112615662\n",
      "Trivia : 0.41751297675468296\n",
      "Educational;Education : 0.3949447077409162\n",
      "Board : 0.3836605732340329\n",
      "Educational : 0.3723764387271496\n",
      "Education;Education : 0.3385240352064997\n",
      "Word : 0.2595350936583164\n",
      "Casual;Pretend Play : 0.23696682464454977\n",
      "Music : 0.2031144211238998\n",
      "Racing;Action & Adventure : 0.16926201760324985\n",
      "Puzzle;Brain Games : 0.16926201760324985\n",
      "Entertainment;Music & Video : 0.16926201760324985\n",
      "Casual;Brain Games : 0.13540961408259986\n",
      "Casual;Action & Adventure : 0.13540961408259986\n",
      "Arcade;Action & Adventure : 0.12412547957571654\n",
      "Action;Action & Adventure : 0.1015572105619499\n",
      "Educational;Pretend Play : 0.09027307605506657\n",
      "Simulation;Action & Adventure : 0.07898894154818326\n",
      "Parenting;Education : 0.07898894154818326\n",
      "Entertainment;Brain Games : 0.07898894154818326\n",
      "Board;Brain Games : 0.07898894154818326\n",
      "Parenting;Music & Video : 0.06770480704129993\n",
      "Educational;Brain Games : 0.06770480704129993\n",
      "Casual;Creativity : 0.06770480704129993\n",
      "Art & Design;Creativity : 0.06770480704129993\n",
      "Education;Pretend Play : 0.056420672534416606\n",
      "Role Playing;Pretend Play : 0.045136538027533285\n",
      "Education;Creativity : 0.045136538027533285\n",
      "Role Playing;Action & Adventure : 0.033852403520649964\n",
      "Puzzle;Action & Adventure : 0.033852403520649964\n",
      "Entertainment;Creativity : 0.033852403520649964\n",
      "Entertainment;Action & Adventure : 0.033852403520649964\n",
      "Educational;Creativity : 0.033852403520649964\n",
      "Educational;Action & Adventure : 0.033852403520649964\n",
      "Education;Music & Video : 0.033852403520649964\n",
      "Education;Brain Games : 0.033852403520649964\n",
      "Education;Action & Adventure : 0.033852403520649964\n",
      "Adventure;Action & Adventure : 0.033852403520649964\n",
      "Video Players & Editors;Music & Video : 0.022568269013766643\n",
      "Sports;Action & Adventure : 0.022568269013766643\n",
      "Simulation;Pretend Play : 0.022568269013766643\n",
      "Puzzle;Creativity : 0.022568269013766643\n",
      "Music;Music & Video : 0.022568269013766643\n",
      "Entertainment;Pretend Play : 0.022568269013766643\n",
      "Casual;Education : 0.022568269013766643\n",
      "Board;Action & Adventure : 0.022568269013766643\n",
      "Video Players & Editors;Creativity : 0.011284134506883321\n",
      "Trivia;Education : 0.011284134506883321\n",
      "Travel & Local;Action & Adventure : 0.011284134506883321\n",
      "Tools;Education : 0.011284134506883321\n",
      "Strategy;Education : 0.011284134506883321\n",
      "Strategy;Creativity : 0.011284134506883321\n",
      "Strategy;Action & Adventure : 0.011284134506883321\n",
      "Simulation;Education : 0.011284134506883321\n",
      "Role Playing;Brain Games : 0.011284134506883321\n",
      "Racing;Pretend Play : 0.011284134506883321\n",
      "Puzzle;Education : 0.011284134506883321\n",
      "Parenting;Brain Games : 0.011284134506883321\n",
      "Music & Audio;Music & Video : 0.011284134506883321\n",
      "Lifestyle;Pretend Play : 0.011284134506883321\n",
      "Lifestyle;Education : 0.011284134506883321\n",
      "Health & Fitness;Education : 0.011284134506883321\n",
      "Health & Fitness;Action & Adventure : 0.011284134506883321\n",
      "Entertainment;Education : 0.011284134506883321\n",
      "Communication;Creativity : 0.011284134506883321\n",
      "Comics;Creativity : 0.011284134506883321\n",
      "Casual;Music & Video : 0.011284134506883321\n",
      "Card;Action & Adventure : 0.011284134506883321\n",
      "Books & Reference;Education : 0.011284134506883321\n",
      "Art & Design;Pretend Play : 0.011284134506883321\n",
      "Art & Design;Action & Adventure : 0.011284134506883321\n",
      "Arcade;Pretend Play : 0.011284134506883321\n",
      "Adventure;Education : 0.011284134506883321\n",
      "\n",
      "GOOGLE PLAY APPS BY CATEGORY \n",
      "\n",
      "FAMILY : 18.900925299029563\n",
      "GAME : 9.726923944933423\n",
      "TOOLS : 8.463100880162491\n",
      "BUSINESS : 4.5926427443015125\n",
      "LIFESTYLE : 3.9043105393816293\n",
      "PRODUCTIVITY : 3.8930264048747465\n",
      "FINANCE : 3.7011961182577298\n",
      "MEDICAL : 3.5319341006544795\n",
      "SPORTS : 3.39652448657188\n",
      "PERSONALIZATION : 3.3175355450236967\n",
      "COMMUNICATION : 3.238546603475513\n",
      "HEALTH_AND_FITNESS : 3.080568720379147\n",
      "PHOTOGRAPHY : 2.945159106296547\n",
      "NEWS_AND_MAGAZINES : 2.798465357707064\n",
      "SOCIAL : 2.663055743624464\n",
      "TRAVEL_AND_LOCAL : 2.335815842924848\n",
      "SHOPPING : 2.2455427668697814\n",
      "BOOKS_AND_REFERENCE : 2.143985556307831\n",
      "DATING : 1.8618821936357481\n",
      "VIDEO_PLAYERS : 1.7941773865944481\n",
      "MAPS_AND_NAVIGATION : 1.399232678853532\n",
      "FOOD_AND_DRINK : 1.2412547957571656\n",
      "EDUCATION : 1.162265854208982\n",
      "ENTERTAINMENT : 0.9591514330850823\n",
      "LIBRARIES_AND_DEMO : 0.9365831640713158\n",
      "AUTO_AND_VEHICLES : 0.9252990295644324\n",
      "HOUSE_AND_HOME : 0.8237418190024826\n",
      "WEATHER : 0.8011735499887158\n",
      "EVENTS : 0.7109004739336493\n",
      "PARENTING : 0.6544798013992327\n",
      "ART_AND_DESIGN : 0.631911532385466\n",
      "COMICS : 0.6206273978785828\n",
      "BEAUTY : 0.598059128864816\n"
     ]
    }
   ],
   "source": [
    "print(\"\\nGOOGLE PLAY APPS BY GENRE\\n\")\n",
    "display_table(gplay_free, -4) # # -4 is the negative index for genre\n",
    "\n",
    "print(\"\\nGOOGLE PLAY APPS BY CATEGORY \\n\")       \n",
    "display_table(gplay_free,1) # by Category"
   ]
  },
  {
   "cell_type": "markdown",
   "metadata": {},
   "source": [
    "From the above result cell, it is evident that category **Family** is the most common in Android apps followed by **Game** and **Tools** and **Tools** is the most common genre on PlayStore followed by **Entertainment** and **Education**."
   ]
  },
  {
   "cell_type": "markdown",
   "metadata": {},
   "source": [
    "#### Common Apps in AppStore"
   ]
  },
  {
   "cell_type": "code",
   "execution_count": 52,
   "metadata": {
    "collapsed": false
   },
   "outputs": [
    {
     "name": "stdout",
     "output_type": "stream",
     "text": [
      "AppStore apps - BY PRIME GENRE \n",
      "\n",
      "Games : 58.180689226948154\n",
      "Entertainment : 7.885749767153058\n",
      "Photo & Video : 4.967401428127911\n",
      "Education : 3.6634585532443342\n",
      "Social Networking : 3.2598571872089415\n",
      "Shopping : 2.607885749767153\n",
      "Utilities : 2.5147469729897547\n",
      "Sports : 2.1421918658801617\n",
      "Music : 2.049053089102763\n",
      "Health & Fitness : 2.018006830176964\n",
      "Productivity : 1.7385904998447685\n",
      "Lifestyle : 1.5833592052157717\n",
      "News : 1.334989133809376\n",
      "Travel : 1.2418503570319777\n",
      "Finance : 1.11766532132878\n",
      "Weather : 0.8692952499223843\n",
      "Food & Drink : 0.8072027320707855\n",
      "Reference : 0.55883266066439\n",
      "Business : 0.5277864017385905\n",
      "Book : 0.43464762496119214\n",
      "Navigation : 0.18627755355479667\n",
      "Medical : 0.18627755355479667\n",
      "Catalogs : 0.12418503570319776\n"
     ]
    }
   ],
   "source": [
    "print(\"AppStore apps - BY PRIME GENRE \\n\")  \n",
    "display_table(ios_free, -5)# -5 is the negative index for genre\n"
   ]
  },
  {
   "cell_type": "markdown",
   "metadata": {
    "collapsed": false
   },
   "source": [
    "From the above,amoung the free English apps the most common genre in AppStore is the **Games** genre followed by **Entertainment** and **Photo & Video**. These apps are designed for fun or entertainment, and we can thus conclude that from the apps in AppStore, apps used for fun/entertained are common than the other apps such as those used for other practical purposes.\n",
    "\n",
    "### Comparison between AppStore and PlayStore apps by genre\n",
    "\n",
    "If we compare the apps by genre in both the datasets usin the frequenct tables alone, users of AppStore apps are more inclined to apps in entertainment and fun genre and Android users are balanced between apps meant for practical purposes and entertainment. "
   ]
  },
  {
   "cell_type": "markdown",
   "metadata": {},
   "source": [
    "### Most Popular Apps by Genre on Google Play\n",
    "\n",
    "### Finding the most popular app on Google Play\n",
    "To find the most popular app, we can calculate the average number of installs for each app genre. In PlayStore data, we have the `Installs` column that gives us the total number of installs. However, in AppStore dataset, we take into consideration the `rating_count_total` column and calculate the average of user ratings per app genre."
   ]
  },
  {
   "cell_type": "markdown",
   "metadata": {},
   "source": [
    "We have data about the number of installs for the Google Play market, so we should be able to get a clearer picture about genre popularity. However, the install numbers don't seem precise enough — we can see that most values are open-ended (100+, 1,000+, 5,000+, etc.)"
   ]
  },
  {
   "cell_type": "code",
   "execution_count": 53,
   "metadata": {
    "collapsed": false
   },
   "outputs": [
    {
     "name": "stdout",
     "output_type": "stream",
     "text": [
      "1,000,000+ : 15.730083502595352\n",
      "100,000+ : 11.554953735048521\n",
      "10,000,000+ : 10.550665763935905\n",
      "10,000+ : 10.189573459715639\n",
      "1,000+ : 8.395396073121193\n",
      "100+ : 6.917174452719477\n",
      "5,000,000+ : 6.82690137666441\n",
      "500,000+ : 5.563078311893477\n",
      "50,000+ : 4.773188896411646\n",
      "5,000+ : 4.513653802753328\n",
      "10+ : 3.5432182351613632\n",
      "500+ : 3.2498307379823967\n",
      "50,000,000+ : 2.3019634394041977\n",
      "100,000,000+ : 2.132701421800948\n",
      "50+ : 1.9183028661701647\n",
      "5+ : 0.7898894154818324\n",
      "1+ : 0.5077860528097494\n",
      "500,000,000+ : 0.2708192281651997\n",
      "1,000,000,000+ : 0.22568269013766643\n",
      "0+ : 0.045136538027533285\n"
     ]
    }
   ],
   "source": [
    "display_table(gplay_free, 5) # 5 is the index for Installs column"
   ]
  },
  {
   "cell_type": "markdown",
   "metadata": {},
   "source": [
    "To perform computations(calculate the average number of installs per app genre for the Google Play data set), however, we'll need to convert each install number from string to float. This means we need to remove the commas and the plus characters, otherwise the conversion will fail and raise an error."
   ]
  },
  {
   "cell_type": "code",
   "execution_count": 54,
   "metadata": {
    "collapsed": false
   },
   "outputs": [
    {
     "name": "stdout",
     "output_type": "stream",
     "text": [
      "ART_AND_DESIGN : 2021626.7857142857\n",
      "AUTO_AND_VEHICLES : 647317.8170731707\n",
      "BEAUTY : 513151.88679245283\n",
      "BOOKS_AND_REFERENCE : 8767811.894736841\n",
      "BUSINESS : 1712290.1474201474\n",
      "COMICS : 817657.2727272727\n",
      "COMMUNICATION : 38456119.167247385\n",
      "DATING : 854028.8303030303\n",
      "EDUCATION : 1833495.145631068\n",
      "ENTERTAINMENT : 11640705.88235294\n",
      "EVENTS : 253542.22222222222\n",
      "FAMILY : 3697848.1731343283\n",
      "FINANCE : 1387692.475609756\n",
      "FOOD_AND_DRINK : 1924897.7363636363\n",
      "GAME : 15588015.603248259\n",
      "HEALTH_AND_FITNESS : 4188821.9853479853\n",
      "HOUSE_AND_HOME : 1331540.5616438356\n",
      "LIBRARIES_AND_DEMO : 638503.734939759\n",
      "LIFESTYLE : 1437816.2687861272\n",
      "MAPS_AND_NAVIGATION : 4056941.7741935486\n",
      "MEDICAL : 120550.61980830671\n",
      "NEWS_AND_MAGAZINES : 9549178.467741935\n",
      "PARENTING : 542603.6206896552\n",
      "PERSONALIZATION : 5201482.6122448975\n",
      "PHOTOGRAPHY : 17840110.40229885\n",
      "PRODUCTIVITY : 16787331.344927534\n",
      "SHOPPING : 7036877.311557789\n",
      "SOCIAL : 23253652.127118643\n",
      "SPORTS : 3638640.1428571427\n",
      "TOOLS : 10801391.298666667\n",
      "TRAVEL_AND_LOCAL : 13984077.710144928\n",
      "VIDEO_PLAYERS : 24727872.452830188\n",
      "WEATHER : 5074486.197183099\n"
     ]
    }
   ],
   "source": [
    "category_playstore = freq_table(gplay_free,1) # 1 is the index for Category\n",
    "category_sorted = sorted(category_playstore, reverse = False)\n",
    "free_apps_sorted = sorted(gplay_free, reverse = False)\n",
    "for category in category_sorted:\n",
    "    total = 0\n",
    "    len_category = 0\n",
    "    for app in free_apps_sorted:\n",
    "        category_app = app[1]\n",
    "        if category_app == category:            \n",
    "            n_installs = app[5]\n",
    "            n_installs = n_installs.replace(',', '')\n",
    "            n_installs = n_installs.replace('+', '')\n",
    "            total += float(n_installs)\n",
    "            len_category += 1\n",
    "    avg_n_installs = total / len_category\n",
    "    print(category, ':', (avg_n_installs))\n"
   ]
  },
  {
   "cell_type": "markdown",
   "metadata": {},
   "source": [
    "On an average, ***Communication*** apps(WhatsApp, Viber, Skype etc) have more installs (38456119.167247385) and hence would be more profitable on Google PlayStore. The other two categorys with more installs are ***Video Players*** (24727872.4528302\n",
    ") and ***Social*** (23253652.1271186\n",
    ")"
   ]
  },
  {
   "cell_type": "markdown",
   "metadata": {},
   "source": [
    "### Most Popular Apps by Genre on the App Store\n",
    "\n",
    "#### Finding the average ratings of Apps by Genre on AppStore"
   ]
  },
  {
   "cell_type": "code",
   "execution_count": 55,
   "metadata": {
    "collapsed": false,
    "scrolled": true
   },
   "outputs": [
    {
     "name": "stdout",
     "output_type": "stream",
     "text": [
      "News : 21248.023255813954\n",
      "Education : 7003.983050847458\n",
      "Social Networking : 43899.514285714286\n",
      "Utilities : 18684.456790123455\n",
      "Book : 39758.5\n",
      "Business : 7491.117647058823\n",
      "Navigation : 86090.33333333333\n",
      "Health & Fitness : 23298.015384615384\n",
      "Productivity : 21028.410714285714\n",
      "Sports : 23008.898550724636\n",
      "Photo & Video : 28441.54375\n",
      "Travel : 28243.8\n",
      "Reference : 74942.11111111111\n",
      "Games : 22788.6696905016\n",
      "Entertainment : 14029.830708661417\n",
      "Finance : 31467.944444444445\n",
      "Lifestyle : 16485.764705882353\n",
      "Weather : 52279.892857142855\n",
      "Food & Drink : 33333.92307692308\n",
      "Music : 57326.530303030304\n",
      "Shopping : 26919.690476190477\n",
      "Catalogs : 4004.0\n",
      "Medical : 612.0\n"
     ]
    }
   ],
   "source": [
    "appstore_genre = freq_table(ios_free, -5) \n",
    "for genre in  appstore_genre:\n",
    "    len_genre = 0\n",
    "    total = 0\n",
    "    for row in ios_free:\n",
    "        genre_app = row[-5] \n",
    "        if genre_app == genre:\n",
    "            ratings_count = float(row[5])\n",
    "            total+= ratings_count\n",
    "            len_genre +=1\n",
    "            \n",
    "    average_ratings = total/len_genre\n",
    "    print(genre,':', average_ratings)\n",
    "            \n",
    "        \n",
    "    "
   ]
  },
  {
   "cell_type": "markdown",
   "metadata": {},
   "source": [
    "The top three apps with highest user ratings in AppStore by Genre are **Navigation**, **Reference** and **Music** apps. **Navigation** apps are recommended for the App Store based on average number of ratings."
   ]
  },
  {
   "cell_type": "markdown",
   "metadata": {},
   "source": [
    "If we look closer at the results,Social Networking apps in AppStore is not far behind based on average number of ratings ie, 43899.5142857143\n",
    ". "
   ]
  },
  {
   "cell_type": "code",
   "execution_count": 56,
   "metadata": {
    "collapsed": false
   },
   "outputs": [
    {
     "name": "stdout",
     "output_type": "stream",
     "text": [
      "Pinterest\n",
      "Skype for iPhone\n",
      "Messenger\n",
      "Tumblr\n",
      "WhatsApp Messenger\n",
      "Kik\n",
      "ooVoo – Free Video Call, Text and Voice\n",
      "TextNow - Unlimited Text + Calls\n",
      "Viber Messenger – Text & Call\n",
      "Followers - Social Analytics For Instagram\n",
      "MeetMe - Chat and Meet New People\n",
      "We Heart It - Fashion, wallpapers, quotes, tattoos\n",
      "InsTrack for Instagram - Analytics Plus More\n",
      "Tango - Free Video Call, Voice and Chat\n",
      "LinkedIn\n",
      "Match™ - #1 Dating App.\n",
      "Skype for iPad\n",
      "POF - Best Dating App for Conversations\n",
      "Timehop\n",
      "Find My Family, Friends & iPhone - Life360 Locator\n",
      "Whisper - Share, Express, Meet\n",
      "Hangouts\n",
      "LINE PLAY - Your Avatar World\n",
      "WeChat\n",
      "Badoo - Meet New People, Chat, Socialize.\n",
      "Followers + for Instagram - Follower Analytics\n",
      "GroupMe\n",
      "Marco Polo Video Walkie Talkie\n",
      "Miitomo\n",
      "SimSimi\n",
      "Grindr - Gay and same sex guys chat, meet and date\n",
      "Wishbone - Compare Anything\n",
      "imo video calls and chat\n",
      "After School - Funny Anonymous School News\n",
      "Quick Reposter - Repost, Regram and Reshare Photos\n",
      "Weibo HD\n",
      "Repost for Instagram\n",
      "Live.me – Live Video Chat & Make Friends Nearby\n",
      "Nextdoor\n",
      "Followers Analytics for Instagram - InstaReport\n",
      "YouNow: Live Stream Video Chat\n",
      "FollowMeter for Instagram - Followers Tracking\n",
      "LINE\n",
      "eHarmony™ Dating App - Meet Singles\n",
      "Discord - Chat for Gamers\n",
      "QQ\n",
      "Telegram Messenger\n",
      "Weibo\n",
      "Periscope - Live Video Streaming Around the World\n",
      "Chat for Whatsapp - iPad Version\n",
      "QQ HD\n",
      "Followers Analysis Tool For Instagram App Free\n",
      "live.ly - live video streaming\n",
      "Houseparty - Group Video Chat\n",
      "SOMA Messenger\n",
      "Monkey\n",
      "Down To Lunch\n",
      "Flinch - Video Chat Staring Contest\n",
      "Highrise - Your Avatar Community\n",
      "LOVOO - Dating Chat\n",
      "PlayStation®Messages\n",
      "BOO! - Video chat camera with filters & stickers\n",
      "Qzone\n",
      "Chatous - Chat with new people\n",
      "Kiwi - Q&A\n",
      "GhostCodes - a discovery app for Snapchat\n",
      "Jodel\n",
      "FireChat\n",
      "Google Duo - simple video calling\n",
      "Fiesta by Tango - Chat & Meet New People\n",
      "Google Allo — smart messaging\n",
      "Peach — share vividly\n",
      "Hey! VINA - Where Women Meet New Friends\n",
      "Battlefield™ Companion\n",
      "All Devices for WhatsApp - Messenger for iPad\n",
      "Chat for Pokemon Go - GoChat\n",
      "IAmNaughty – Dating App to Meet New People Online\n",
      "Qzone HD\n",
      "Zenly - Locate your friends in realtime\n",
      "League of Legends Friends\n",
      "豆瓣\n",
      "Candid - Speak Your Mind Freely\n",
      "知乎\n",
      "Selfeo\n",
      "Fake-A-Location Free ™\n",
      "Popcorn Buzz - Free Group Calls\n",
      "Fam — Group video calling for iMessage\n",
      "QQ International\n",
      "Ameba\n",
      "SoundCloud Pulse: for creators\n",
      "Tantan\n",
      "Cougar Dating & Life Style App for Mature Women\n",
      "Rawr Messenger - Dab your chat\n",
      "WhenToPost: Best Time to Post Photos for Instagram\n",
      "Inke—Broadcast an amazing life\n",
      "Mustknow - anonymous video Q&A\n",
      "CTFxCmoji\n",
      "Lobi\n",
      "Chain: Collaborate On MyVideo Story/Group Video\n",
      "botman - Real time video chat\n",
      "BestieBox\n",
      "MATCH ON LINE chat\n",
      "niconico ch\n",
      "LINE BLOG\n",
      "bit-tube - Live Stream Video Chat\n"
     ]
    }
   ],
   "source": [
    "for i in ios_free:\n",
    "    if i[-5] == 'Social Networking':\n",
    "        print(i[1])"
   ]
  },
  {
   "cell_type": "code",
   "execution_count": 57,
   "metadata": {
    "collapsed": false
   },
   "outputs": [
    {
     "name": "stdout",
     "output_type": "stream",
     "text": [
      "Facebook\n",
      "Facebook Lite\n",
      "Tumblr\n",
      "Social network all in one 2018\n",
      "Pinterest\n",
      "TextNow - free text + calls\n",
      "Google+\n",
      "The Messenger App\n",
      "Messenger Pro\n",
      "Free Messages, Video, Chat,Text for Messenger Plus\n",
      "Telegram X\n",
      "The Video Messenger App\n",
      "Jodel - The Hyperlocal App\n",
      "Hide Something - Photo, Video\n",
      "Love Sticker\n",
      "Web Browser & Fast Explorer\n",
      "LiveMe - Video chat, new friends, and make money\n",
      "VidStatus app - Status Videos & Status Downloader\n",
      "Love Images\n",
      "Web Browser ( Fast & Secure Web Explorer)\n",
      "SPARK - Live random video chat & meet new people\n",
      "Golden telegram\n",
      "Facebook Local\n",
      "Meet – Talk to Strangers Using Random Video Chat\n",
      "MobilePatrol Public Safety App\n",
      "💘 WhatsLov: Smileys of love, stickers and GIF\n",
      "HTC Social Plugin - Facebook\n",
      "Quora\n",
      "Kate Mobile for VK\n",
      "Family GPS tracker KidControl + GPS by SMS Locator\n",
      "Moment\n",
      "Text Me: Text Free, Call Free, Second Phone Number\n",
      "Text Free: WiFi Calling App\n",
      "Badoo - Free Chat & Dating App\n",
      "Text free - Free Text + Call\n",
      "Tango - Live Video Broadcast\n",
      "ooVoo Video Calls, Messaging & Stories\n",
      "Whisper\n",
      "Blogger\n",
      "Bloglovin'\n",
      "Blogaway for Android (Blogger)\n",
      "Instagram\n",
      "TwitCasting Live\n",
      "Stream - Live Video Community\n",
      "YouNow: Live Stream Video Chat\n",
      "Mirrativ: Live Stream Any App\n",
      "Snapchat\n",
      "Banjo\n",
      "We Heart It\n",
      "MeetMe: Chat & Meet New People\n",
      "Timehop\n",
      "Frontback - Social Photos\n",
      "LinkedIn\n",
      "Path\n",
      "SayHi Chat, Meet New People\n",
      "Tapatalk - 100,000+ Forums\n",
      "Couple - Relationship App\n",
      "Nextdoor - Local neighborhood news & classifieds\n",
      "LOVOO\n",
      "Jaumo Dating, Flirt & Live Video\n",
      "Patook - make platonic friends\n",
      "Zello PTT Walkie Talkie\n",
      "textPlus: Free Text & Calls\n",
      "magicApp Calling & Messaging\n",
      "Dating App, Flirt & Chat : W-Match\n",
      "uCiC- Videos and Photos on demand\n",
      "Meetup\n",
      "POF Free Dating App\n",
      "Tagged - Meet, Chat & Dating\n",
      "SKOUT - Meet, Chat, Go Live\n",
      "Mico- Stranger Chat Random video Chat, Live, Meet\n",
      "Waplog - Free Chat, Dating App, Meet Singles\n",
      "Tik Tok - including musical.ly\n",
      "B-Messenger Video Chat\n",
      "BIGO LIVE - Live Stream\n",
      "Greeting Cards & Wishes\n",
      "Share G - Images Sharing - Wallpapers App\n",
      "H letter images\n",
      "Instachat 😜\n",
      "Fame Boom for Real Followers, Likes\n",
      "FollowMeter for Instagram\n",
      "Mali J\n",
      "KDRAMA Amino for K-Drama Fans\n",
      "KPOP Amino for K-Pop Entertainment\n",
      "EXO-L Amino for EXO Fans\n",
      "Verdad o Reto\n",
      "pixiv\n",
      "Join R, Community Engagement\n",
      "U LIVE – Video Chat & Stream\n",
      "See U - Random video chat, video chat\n",
      "What U See\n",
      "U-Report\n",
      "Meet U - Get Friends for Snapchat, Kik & Instagram\n",
      "VMate Lite - Funny Short Videos Social Network\n",
      "V Bucks ProTips New\n",
      "i-share AF/KLM (AFKL ishare)\n",
      "Eternal Light AG\n",
      "Message AI - Write Better Messages (Free)\n",
      "Jamaa Amino for Animal Jam\n",
      "Legend - Animate Text in Video\n",
      "GUYZ - Gay Chat & Gay Dating\n",
      "eChallan Andhra Pradesh (AP)\n",
      "Snaappy – 3D fun AR core communication platform\n",
      "Undertale AU Amino\n",
      "Au Pair\n",
      "Media Sosial TNI AU\n",
      "BA 3 Banjarmasin\n",
      "iCard BD Plus\n",
      "Movement BE\n",
      "YAY - TBH\n",
      "Find My Friends\n",
      "BG LINKED (BGLINKED)\n",
      "Zdravei.BG\n",
      "BGKontakti London BG Kontakti\n",
      "BGKontakti Bayern BG Kontakti\n",
      "BGKontakti Vienna BG Kontakti\n",
      "Discípulos em BH\n",
      "BH Connect\n",
      "Gayvox - Gay Lesbian Bi Dating\n",
      "Grindr - Gay chat\n",
      "Lesbian Chat & Dating - SPICY\n",
      "Alumni BJ\n",
      "VK\n",
      "BK Traffic Control cum Chart\n",
      "Daily Murli Saar Widget\n",
      "Myjob@BM\n",
      "bm-Events\n",
      "BOO! - Next Generation Messenger\n",
      "Wishbone - Compare Anything\n",
      "BR Chat Bot\n",
      "Br Browser\n",
      "Dr B R Ambedkar (Jai Bhim)\n",
      "Dr. B.R.Ambedkar\n",
      "Black Social\n",
      "BT Communicator\n",
      "BT Dating -Find your match, help cupid, be social\n",
      "Fiesta by Tango - Find, Meet and Make New Friends\n",
      "Evasion.bz\n",
      "CB Heroes\n",
      "CG Districts\n",
      "Digi-TV.ch\n",
      "Students.ch\n",
      "CJ Gospel Hour\n",
      "Pekalongan CJ\n",
      "Hashtags For Likes.co\n",
      "CP Dialer\n",
      "C.P. CERVANTES (TOBARRA)\n",
      "Cyprus Police\n",
      "Rande.cz\n",
      "signály.cz\n",
      "DB Event App\n",
      "DC Comics Amino\n",
      "DF BugMeNot\n",
      "Noticias DF\n",
      "Periscope - Live Video\n",
      "Daddyhunt: Gay Dating\n",
      "Free phone calls, free texting SMS on free number\n",
      "Phone Tracker : Family Locator\n",
      "HOLLA Live: Meet New People via Random Video Chat\n",
      "Dating.dk\n",
      "DK Murali\n",
      "GirlTalk.dk\n",
      "+Download 4 Instagram Twitter\n",
      "DM Me - Chat\n",
      "DM for IG 😘 - Image & Video Saver for Instagram\n",
      "Auto DM for Twitter 🔥\n",
      "DM Storage (for twitter)\n",
      "Fake Chat (Direct Message)\n",
      "Otto DM\n",
      "DN Blog\n",
      "DP and Status for WhatsApp 2018\n",
      "Dp For Whatsapp\n",
      "Profile Pictures and DP for Whatsapp\n",
      "Dp for Facebook\n",
      "Best DP and Status\n",
      "Instant DP Downloader for Instagram\n",
      "DP Display Pictures Life Quotes Motivational GM\n",
      "Qeek for Instagram - Zoom profile insta DP\n",
      "DV Statistics\n",
      "DW Streaming\n",
      "News Dz\n",
      "quran-DZ\n",
      "TN e Sevai TN EB Bill Patta Citta EC Birth All Hub\n",
      "TNEB Bill Online Payment (Tamil)\n",
      "UP EB Bill Payment & Details\n",
      "TN EC Online New\n",
      "TN Patta /Chitta /EC New\n",
      "EG Way Life\n",
      "Equestria Amino for MLP\n",
      "Ek Maratha\n",
      "Hum Ek Hain 2.02\n",
      "Sabka Malik Ek Sai\n",
      "EO RAIPUR\n",
      "Anime et Manga Amino en Français\n",
      "Hornet - Gay Social Network\n",
      "Amino: Communities and Chats\n",
      "European Solidarity Corps\n",
      "Reisedealz.eu\n",
      "Eddsworld Amino\n",
      "Rejoin Your Ex\n",
      "Amleen Ey\n",
      "Coupe Adhémar EY 2017\n",
      "EZ Video Download for Facebook\n",
      "Messages, Text and Video Chat for Messenger\n",
      "All Social Networks\n",
      "Messenger Messenger\n",
      "Facebook Creator\n",
      "Swift for Facebook Lite\n",
      "Friendly for Facebook\n",
      "Faster for Facebook Lite\n",
      "Puffin for Facebook\n",
      "Profile Tracker - Who Viewed My Facebook Profile\n",
      "Pink Color for Facebook\n",
      "Messenger\n",
      "Stickers for Imo, fb, whatsapp\n",
      "Who Viewed My Facebook Profile - Stalkers Visitors\n",
      "Downloader plus for FB\n",
      "MB Notifications for FB (Free)\n",
      "Phoenix - Facebook & Messenger\n",
      "Faster Social for Facebook\n",
      "Check Your Visitors on FB ?\n",
      "Stickers for Facebook\n",
      "Lite Messenger for Facebook Lite\n",
      "Mini for Facebook lite\n",
      "FB Advanced Search\n",
      "funny Image Comments for FB\n",
      "Unlimited Group Links - Whatsapp, FB, Telegram\n",
      "FCB Connect - FC Barcelona\n",
      "Frases Cristianas de Esperanza y Fe\n",
      "FutureNet your social app\n",
      "Alarm.fo – choose your info\n",
      "FunForMobile Ringtones & Chat\n",
      "Chat For Strangers - Video Chat\n",
      "Fr Daoud Lamei\n",
      "Naruto & Boruto FR\n",
      "Frim: get new friends on local chat rooms\n"
     ]
    }
   ],
   "source": [
    "for i in gplay_free:\n",
    "    if i[1] == \"SOCIAL\":\n",
    "        print(i[0])"
   ]
  },
  {
   "cell_type": "markdown",
   "metadata": {},
   "source": [
    "Though there are many apps already available under the Socal genre in both the  stores, we recommend that an app under `Social` or `Social Networking` genre would be profitable on both the markets."
   ]
  },
  {
   "cell_type": "markdown",
   "metadata": {},
   "source": [
    "### Conclusion\n",
    "\n",
    "In this project, we were analysing the apps on both Android Google PlayStore and Apple's AppStore to recommend an app genre that would potentially be profitable on both the markets.\n",
    "\n",
    "After analysing the popularity of the genres on both AppStore and Google PlayStore, we recommend that apps in the `Social` or `Socail Networking` genre would be profitable."
   ]
  }
 ],
 "metadata": {
  "kernelspec": {
   "display_name": "Python 3",
   "language": "python",
   "name": "python3"
  },
  "language_info": {
   "codemirror_mode": {
    "name": "ipython",
    "version": 3
   },
   "file_extension": ".py",
   "mimetype": "text/x-python",
   "name": "python",
   "nbconvert_exporter": "python",
   "pygments_lexer": "ipython3",
   "version": "3.4.3"
  }
 },
 "nbformat": 4,
 "nbformat_minor": 2
}
